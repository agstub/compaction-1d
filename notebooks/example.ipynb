{
 "cells": [
  {
   "cell_type": "markdown",
   "id": "80eb6396",
   "metadata": {},
   "source": [
    "The code requires FEniCSx---see the README for details."
   ]
  },
  {
   "cell_type": "code",
   "execution_count": 1,
   "id": "143b6537",
   "metadata": {
    "vscode": {
     "languageId": "plaintext"
    }
   },
   "outputs": [],
   "source": [
    "%load_ext autoreload\n",
    "%autoreload 2\n",
    "# add path to code\n",
    "import sys\n",
    "sys.path.insert(0, '../source')"
   ]
  },
  {
   "cell_type": "code",
   "execution_count": 2,
   "id": "543ce17a",
   "metadata": {
    "vscode": {
     "languageId": "plaintext"
    }
   },
   "outputs": [],
   "source": [
    "import numpy as np\n",
    "from main import solve\n",
    "from ufl import SpatialCoordinate\n",
    "from params import H, L, Nx, Nz, rho_w, g0, sigma0, u0\n",
    "from dolfinx.fem import Expression, Function, FunctionSpace\n",
    "from dolfinx.mesh import create_rectangle\n",
    "from mpi4py import MPI\n",
    "from fem_spaces import mixed_space\n",
    "import matplotlib.pyplot as plt\n",
    "from matplotlib import colors\n",
    "from plotting import interp"
   ]
  },
  {
   "cell_type": "markdown",
   "id": "9d7e791f",
   "metadata": {},
   "source": [
    "Define domain:"
   ]
  },
  {
   "cell_type": "code",
   "execution_count": 3,
   "id": "55519a2d",
   "metadata": {
    "vscode": {
     "languageId": "plaintext"
    }
   },
   "outputs": [],
   "source": [
    "    # generate mesh\n",
    "    p0 = [-L/2.0,-0.5*H]\n",
    "    p1 = [L/2.0,0.5*H]\n",
    "    domain = create_rectangle(MPI.COMM_WORLD,[p0,p1], [Nx, Nz])"
   ]
  },
  {
   "cell_type": "markdown",
   "id": "f8bae283",
   "metadata": {},
   "source": [
    "Define melting rate function:"
   ]
  },
  {
   "cell_type": "code",
   "execution_count": 19,
   "id": "c8dc4231",
   "metadata": {
    "vscode": {
     "languageId": "plaintext"
    }
   },
   "outputs": [],
   "source": [
    "m = lambda x,t: 0*x[1] #+ 0*t"
   ]
  },
  {
   "cell_type": "markdown",
   "id": "a69a33e7",
   "metadata": {},
   "source": [
    "Define initial conditions"
   ]
  },
  {
   "cell_type": "code",
   "execution_count": 5,
   "id": "5aa4f890-b8a6-4edd-9fe6-ac320e413801",
   "metadata": {},
   "outputs": [],
   "source": [
    "P2 = FunctionSpace(domain, (\"CG\", 2))\n",
    "P1 = FunctionSpace(domain, (\"CG\", 1))"
   ]
  },
  {
   "cell_type": "code",
   "execution_count": 6,
   "id": "31d62394-96fe-4cc6-b7e2-d03c01cf9850",
   "metadata": {},
   "outputs": [],
   "source": [
    "def step(x,val): \n",
    "    return val*(x[1] + abs(x[1]))/(2*abs(x[1])+1e-10)"
   ]
  },
  {
   "cell_type": "code",
   "execution_count": 7,
   "id": "39403a91-a23c-4a1d-b220-790cdafd192a",
   "metadata": {},
   "outputs": [],
   "source": [
    "phii_0 = Function(P2)\n",
    "phiw_0 = Function(P2)\n",
    "u_0 = Function(P2)\n",
    "w_0 = Function(P2)\n",
    "pw_0 = Function(P1)\n",
    "pe_0 = Function(P1)"
   ]
  },
  {
   "cell_type": "code",
   "execution_count": 8,
   "id": "e1bcb8e3-4d58-4db2-8cfb-8186c26d70d9",
   "metadata": {},
   "outputs": [],
   "source": [
    "phii_0.interpolate(lambda x: step(x,1))\n",
    "phiw_0.interpolate(lambda x: step(-x,0.25))\n",
    "u_0.interpolate(lambda x: step(x,u0))\n",
    "w_0.interpolate(lambda x: step(x,0))\n",
    "pw_0.interpolate(lambda x: rho_w*g0*x[1] + sigma0)\n",
    "pe_0.interpolate(lambda x: step(x,0)) "
   ]
  },
  {
   "cell_type": "code",
   "execution_count": 9,
   "id": "d22fd8c1-92bf-44be-b9e7-9430ff159bf5",
   "metadata": {},
   "outputs": [],
   "source": [
    "V = mixed_space(domain)\n",
    "initial = Function(V)\n",
    "initial.sub(0).sub(0).interpolate(u_0)\n",
    "initial.sub(0).sub(1).interpolate(w_0)\n",
    "initial.sub(1).interpolate(phii_0)\n",
    "initial.sub(2).interpolate(phiw_0)\n",
    "initial.sub(3).interpolate(pw_0)\n",
    "initial.sub(4).interpolate(pe_0)"
   ]
  },
  {
   "cell_type": "code",
   "execution_count": 31,
   "id": "7334cb97-cf3e-4444-a683-487f87086f63",
   "metadata": {},
   "outputs": [
    {
     "name": "stdout",
     "output_type": "stream",
     "text": [
      "Iteration 1 out of 100 \r"
     ]
    },
    {
     "ename": "RuntimeError",
     "evalue": "Newton solver did not converge because maximum number of iterations reached",
     "output_type": "error",
     "traceback": [
      "\u001b[0;31m---------------------------------------------------------------------------\u001b[0m",
      "\u001b[0;31mRuntimeError\u001b[0m                              Traceback (most recent call last)",
      "Cell \u001b[0;32mIn[31], line 1\u001b[0m\n\u001b[0;32m----> 1\u001b[0m sol \u001b[38;5;241m=\u001b[39m \u001b[43msolve\u001b[49m\u001b[43m(\u001b[49m\u001b[43mdomain\u001b[49m\u001b[43m,\u001b[49m\u001b[43mm\u001b[49m\u001b[43m,\u001b[49m\u001b[43minitial\u001b[49m\u001b[43m)\u001b[49m\n",
      "File \u001b[0;32m/home/fenics/shared/notebooks/../source/main.py:37\u001b[0m, in \u001b[0;36msolve\u001b[0;34m(domain, m, initial)\u001b[0m\n\u001b[1;32m     34\u001b[0m \u001b[38;5;28mprint\u001b[39m(\u001b[38;5;124m'\u001b[39m\u001b[38;5;124mIteration \u001b[39m\u001b[38;5;124m'\u001b[39m\u001b[38;5;241m+\u001b[39m\u001b[38;5;28mstr\u001b[39m(i\u001b[38;5;241m+\u001b[39m\u001b[38;5;241m1\u001b[39m)\u001b[38;5;241m+\u001b[39m\u001b[38;5;124m'\u001b[39m\u001b[38;5;124m out of \u001b[39m\u001b[38;5;124m'\u001b[39m\u001b[38;5;241m+\u001b[39m\u001b[38;5;28mstr\u001b[39m(nt)\u001b[38;5;241m+\u001b[39m\u001b[38;5;124m'\u001b[39m\u001b[38;5;124m \u001b[39m\u001b[38;5;130;01m\\r\u001b[39;00m\u001b[38;5;124m'\u001b[39m,end\u001b[38;5;241m=\u001b[39m\u001b[38;5;124m'\u001b[39m\u001b[38;5;124m'\u001b[39m)\n\u001b[1;32m     36\u001b[0m \u001b[38;5;66;03m# Solve the Darcy-Stokes problem for sol = (phi_i,phi_w,u,p_w,p_e)\u001b[39;00m\n\u001b[0;32m---> 37\u001b[0m sol \u001b[38;5;241m=\u001b[39m \u001b[43mstokes_solve\u001b[49m\u001b[43m(\u001b[49m\u001b[43mdomain\u001b[49m\u001b[43m,\u001b[49m\u001b[43mm\u001b[49m\u001b[43m,\u001b[49m\u001b[43msol_n\u001b[49m\u001b[43m,\u001b[49m\u001b[43mt\u001b[49m\u001b[43m)\u001b[49m\n\u001b[1;32m     40\u001b[0m \u001b[38;5;66;03m# # save the stokes solution \u001b[39;00m\n\u001b[1;32m     41\u001b[0m \u001b[38;5;66;03m# if save_vtk == True:\u001b[39;00m\n\u001b[1;32m     42\u001b[0m \u001b[38;5;66;03m#     with io.VTXWriter(domain.comm, \"../results/output.bp\", [sol.sub(0).sub(0)]) as vtx:\u001b[39;00m\n\u001b[1;32m     43\u001b[0m \u001b[38;5;66;03m#         vtx.write(0.0)\u001b[39;00m\n\u001b[1;32m     45\u001b[0m sol_n \u001b[38;5;241m=\u001b[39m sol\n",
      "File \u001b[0;32m/home/fenics/shared/notebooks/../source/stokes.py:110\u001b[0m, in \u001b[0;36mstokes_solve\u001b[0;34m(domain, m, sol_n, t)\u001b[0m\n\u001b[1;32m    107\u001b[0m solver \u001b[38;5;241m=\u001b[39m NewtonSolver(MPI\u001b[38;5;241m.\u001b[39mCOMM_WORLD, problem)\n\u001b[1;32m    109\u001b[0m set_log_level(LogLevel\u001b[38;5;241m.\u001b[39mWARNING)\n\u001b[0;32m--> 110\u001b[0m n, converged \u001b[38;5;241m=\u001b[39m \u001b[43msolver\u001b[49m\u001b[38;5;241;43m.\u001b[39;49m\u001b[43msolve\u001b[49m\u001b[43m(\u001b[49m\u001b[43msol\u001b[49m\u001b[43m)\u001b[49m\n\u001b[1;32m    111\u001b[0m \u001b[38;5;28;01massert\u001b[39;00m(converged)\n\u001b[1;32m    113\u001b[0m \u001b[38;5;28;01mreturn\u001b[39;00m sol\n",
      "File \u001b[0;32m/usr/local/dolfinx-real/lib/python3.10/dist-packages/dolfinx/nls/petsc.py:41\u001b[0m, in \u001b[0;36mNewtonSolver.solve\u001b[0;34m(self, u)\u001b[0m\n\u001b[1;32m     38\u001b[0m \u001b[38;5;28;01mdef\u001b[39;00m \u001b[38;5;21msolve\u001b[39m(\u001b[38;5;28mself\u001b[39m, u: fem\u001b[38;5;241m.\u001b[39mFunction):\n\u001b[1;32m     39\u001b[0m \u001b[38;5;250m    \u001b[39m\u001b[38;5;124;03m\"\"\"Solve non-linear problem into function u. Returns the number\u001b[39;00m\n\u001b[1;32m     40\u001b[0m \u001b[38;5;124;03m    of iterations and if the solver converged.\"\"\"\u001b[39;00m\n\u001b[0;32m---> 41\u001b[0m     n, converged \u001b[38;5;241m=\u001b[39m \u001b[38;5;28;43msuper\u001b[39;49m\u001b[43m(\u001b[49m\u001b[43m)\u001b[49m\u001b[38;5;241;43m.\u001b[39;49m\u001b[43msolve\u001b[49m\u001b[43m(\u001b[49m\u001b[43mu\u001b[49m\u001b[38;5;241;43m.\u001b[39;49m\u001b[43mvector\u001b[49m\u001b[43m)\u001b[49m\n\u001b[1;32m     42\u001b[0m     u\u001b[38;5;241m.\u001b[39mx\u001b[38;5;241m.\u001b[39mscatter_forward()\n\u001b[1;32m     43\u001b[0m     \u001b[38;5;28;01mreturn\u001b[39;00m n, converged\n",
      "\u001b[0;31mRuntimeError\u001b[0m: Newton solver did not converge because maximum number of iterations reached"
     ]
    }
   ],
   "source": [
    "sol = solve(domain,m,initial)"
   ]
  },
  {
   "cell_type": "code",
   "execution_count": null,
   "id": "bbc9fdea-8d92-4413-80e2-320e79a1b087",
   "metadata": {},
   "outputs": [],
   "source": [
    "# # PLOT initial volume fractions .... \n",
    "# phii = Function(P1)\n",
    "# phiw = Function(P1)\n",
    "# phii.interpolate(Expression(initial.sub(1), P1.element.interpolation_points()))\n",
    "# phiw.interpolate(Expression(initial.sub(2), P1.element.interpolation_points()))\n",
    "# X,Y,Phi_i = interp(phii,domain)\n",
    "# X,Y,Phi_w = interp(phiw,domain)\n",
    "\n",
    "# j=int(Nz/2.)\n",
    "# plt.plot(Phi_i[:,j],Y[:,j],color='royalblue',linewidth=2,label=r'$\\phi_\\mathrm{i}$')\n",
    "# plt.plot(Phi_w[:,j],Y[:,j],color='crimson',linewidth=2,label=r'$\\phi_\\mathrm{w}$')\n",
    "# plt.legend(fontsize=16,loc='lower right')\n",
    "# plt.ylim(-H/2.,H/2.)\n",
    "# plt.xlabel(r'$\\phi$',fontsize=18)\n",
    "# plt.ylabel(r'$z$',fontsize=18)\n",
    "# plt.xticks(fontsize=12)\n",
    "# plt.yticks(fontsize=12)\n",
    "# plt.show()\n",
    "# plt.close()"
   ]
  },
  {
   "cell_type": "code",
   "execution_count": null,
   "id": "5f43714b-4c27-44a3-8370-e2bca87dac21",
   "metadata": {},
   "outputs": [],
   "source": [
    "###########################\n",
    "# # contour plots ?!?!?\n",
    "# plt.figure(figsize=(12,6))\n",
    "# plt.subplot(121)\n",
    "# plt.contourf(X,Y,Phi_i,cmap='Blues_r',levels=np.linspace(0,1,6),alpha=0.75)\n",
    "# plt.xlabel(r'$x$',fontsize=18)\n",
    "# plt.ylabel(r'$z$',fontsize=18)\n",
    "# plt.xticks(fontsize=12)\n",
    "# plt.yticks(fontsize=12)\n",
    "# cbar = plt.colorbar(orientation='horizontal')\n",
    "# cbar.set_label(r'$\\phi_\\mathrm{i}$',fontsize=18)\n",
    "\n",
    "# norm2 =colors.TwoSlopeNorm(vmin=0, vcenter=0.9, vmax=1)\n",
    "# plt.subplot(122)\n",
    "# plt.contourf(X,Y,Phi_w,cmap='Blues',levels=np.linspace(0,1,6),alpha=0.75)\n",
    "# plt.xlabel(r'$x$',fontsize=18)\n",
    "# plt.ylabel(r'$z$',fontsize=18)\n",
    "# plt.gca().yaxis.tick_right()\n",
    "# plt.gca().yaxis.set_label_position(\"right\")\n",
    "# plt.xticks(fontsize=12)\n",
    "# plt.yticks(fontsize=12)\n",
    "# cbar = plt.colorbar(orientation='horizontal')\n",
    "# cbar.set_label(r'$\\phi_\\mathrm{w}$',fontsize=18)\n",
    "\n",
    "# plt.show()\n",
    "# plt.close()"
   ]
  },
  {
   "cell_type": "code",
   "execution_count": null,
   "id": "2ad15c20-49a6-4110-8126-b456e0e582dd",
   "metadata": {},
   "outputs": [],
   "source": []
  }
 ],
 "metadata": {
  "kernelspec": {
   "display_name": "Python 3 (ipykernel)",
   "language": "python",
   "name": "python3"
  },
  "language_info": {
   "codemirror_mode": {
    "name": "ipython",
    "version": 3
   },
   "file_extension": ".py",
   "mimetype": "text/x-python",
   "name": "python",
   "nbconvert_exporter": "python",
   "pygments_lexer": "ipython3",
   "version": "3.10.6"
  }
 },
 "nbformat": 4,
 "nbformat_minor": 5
}
