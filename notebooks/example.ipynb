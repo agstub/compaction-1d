{
 "cells": [
  {
   "cell_type": "markdown",
   "id": "80eb6396",
   "metadata": {},
   "source": [
    "The code requires FEniCSx---see the README for details."
   ]
  },
  {
   "cell_type": "code",
   "execution_count": null,
   "id": "143b6537",
   "metadata": {},
   "outputs": [],
   "source": [
    "%load_ext autoreload\n",
    "%autoreload 2\n",
    "# add path to code\n",
    "import sys\n",
    "sys.path.insert(0, '../source')"
   ]
  },
  {
   "cell_type": "code",
   "execution_count": null,
   "id": "543ce17a",
   "metadata": {},
   "outputs": [],
   "source": [
    "import matplotlib.pylab as pylab\n",
    "import matplotlib.pyplot as plt\n",
    "import numpy as np\n",
    "from dolfinx.fem import Constant, Function, FunctionSpace\n",
    "from dolfinx.mesh import create_interval\n",
    "from misc import get_stress, interp\n",
    "from mpi4py import MPI\n",
    "from params import eta, H0, nt, nz, phi0, w0, zeta\n",
    "from petsc4py import PETSc\n",
    "from solvers import full_solve, vel_solve\n",
    "from ufl import FiniteElement, MixedElement"
   ]
  },
  {
   "cell_type": "markdown",
   "id": "9d7e791f",
   "metadata": {},
   "source": [
    "Define domain:"
   ]
  },
  {
   "cell_type": "code",
   "execution_count": null,
   "id": "55519a2d",
   "metadata": {},
   "outputs": [],
   "source": [
    "# generate mesh, initial domain is has a scaled height of 1 \n",
    "domain = create_interval(MPI.COMM_WORLD,nz,[0,1])"
   ]
  },
  {
   "cell_type": "code",
   "execution_count": null,
   "id": "18496f1f-29d3-43c4-9802-39728869117c",
   "metadata": {},
   "outputs": [],
   "source": [
    "P1 = FiniteElement('P',domain.ufl_cell(),1)     \n",
    "element = P1*P1\n",
    "V = FunctionSpace(domain,element)   \n",
    "initial = Function(V)\n",
    "initial.sub(1).interpolate(lambda x:phi0+0*x[0])"
   ]
  },
  {
   "cell_type": "code",
   "execution_count": null,
   "id": "33a841df-6f63-4746-9881-0e3d9d81c1d4",
   "metadata": {},
   "outputs": [],
   "source": [
    "# # Dirichlet condition: set compaction rate (velocity) at the top\n",
    "bc_top = {'type': 'velocity', 'value': -1}\n",
    "\n",
    "# # Neumann condition: set the load (stress) at the top\n",
    "# bc_top = {'type': 'stress', 'value': 1e1*H0/(w0*((4./3.)*eta + zeta))}"
   ]
  },
  {
   "cell_type": "code",
   "execution_count": null,
   "id": "55394522-9f93-450a-8b14-a41e8d4d2838",
   "metadata": {},
   "outputs": [],
   "source": [
    "w_i = vel_solve(domain,phi0,bc_top)\n",
    "initial.sub(0).interpolate(w_i)"
   ]
  },
  {
   "cell_type": "code",
   "execution_count": null,
   "id": "7334cb97-cf3e-4444-a683-487f87086f63",
   "metadata": {},
   "outputs": [],
   "source": [
    "w,phi,sigma,z = full_solve(domain,initial,bc_top)"
   ]
  },
  {
   "cell_type": "markdown",
   "id": "fbea5cc8-44cc-47a1-94a3-cfd269350e07",
   "metadata": {},
   "source": [
    "Plot the solution:"
   ]
  },
  {
   "cell_type": "code",
   "execution_count": null,
   "id": "05994b5f-05f7-4355-bdaf-94e0cf09032c",
   "metadata": {},
   "outputs": [],
   "source": [
    "# time array for plotting\n",
    "t = np.outer(np.linspace(0,1,nt),np.ones(nz+1))\n",
    "sigma0 = (1-phi0)*w[0,-1]\n",
    "d = int(sigma.min()/sigma0)\n",
    "\n",
    "plt.figure(figsize=(8,4))\n",
    "plt.subplot(131)\n",
    "plt.plot(t[:,0],z[:,-1],'--',color='crimson',linewidth=1)\n",
    "plt.contourf(t,z,-w,cmap='Blues',levels=np.linspace(0,1,100),extend='both')\n",
    "plt.ylabel(r'$z$',fontsize=18)\n",
    "plt.xlabel(r'$t$',fontsize=18)\n",
    "plt.xticks(fontsize=12)\n",
    "plt.yticks(fontsize=12)\n",
    "cbar = plt.colorbar(orientation='horizontal',pad=0.2,ticks=np.linspace(0,1,5))\n",
    "cbar.set_label(r'$w\\,/\\,w_0$',fontsize=24)\n",
    "cbar.ax.tick_params(labelsize=12)\n",
    "cbar.ax.set_xticklabels([0,0.25,0.5,0.75,1])\n",
    "\n",
    "plt.subplot(132)\n",
    "plt.plot(t[:,0],z[:,-1],'--',color='crimson',linewidth=1)\n",
    "plt.contourf(t,z,sigma/sigma0,cmap='Blues',levels=np.linspace(0,d,100),extend='both')\n",
    "plt.xlabel(r'$t$',fontsize=18)\n",
    "plt.xticks(fontsize=12)\n",
    "plt.gca().yaxis.set_ticks([])\n",
    "plt.yticks(fontsize=12)\n",
    "cbar = plt.colorbar(orientation='horizontal',pad=0.2,ticks=np.linspace(0,d,5))\n",
    "cbar.set_label(r'$\\Sigma$',fontsize=24)\n",
    "cbar.ax.tick_params(labelsize=12)\n",
    "#cbar.ax.set_xticklabels([0,0.25,0.5,0.75,1])\n",
    "\n",
    "plt.subplot(133)\n",
    "plt.plot(t[:,0],z[:,-1],'--',color='crimson',linewidth=1)\n",
    "plt.contourf(t,z,phi/phi0,cmap='Blues',levels=np.linspace(0,1,100),extend='both')\n",
    "plt.ylabel(r'$z$',fontsize=18)\n",
    "plt.xlabel(r'$t$',fontsize=18)\n",
    "plt.xticks(fontsize=12)\n",
    "plt.gca().yaxis.set_label_position(\"right\")\n",
    "plt.gca().yaxis.tick_right()\n",
    "plt.yticks(fontsize=12)\n",
    "cbar = plt.colorbar(orientation='horizontal',pad=0.2,ticks=np.linspace(0,1,5))\n",
    "cbar.set_label(r'$\\phi\\,/\\,\\phi_0$',fontsize=24)\n",
    "cbar.ax.tick_params(labelsize=12)\n",
    "cbar.ax.set_xticklabels([0,0.25,0.5,0.75,1])\n",
    "plt.tight_layout()\n",
    "plt.show()\n",
    "plt.close()"
   ]
  },
  {
   "cell_type": "code",
   "execution_count": null,
   "id": "97d27b68-5cc5-45c8-89de-0991cd53d891",
   "metadata": {},
   "outputs": [],
   "source": [
    "dH = -(z[:,-1] - z[0,-1])\n",
    "sigma_H = -sigma[:,-1]\n",
    "sigma_sc = (w0*((4./3.)*eta + zeta))/H0/1e3\n",
    "dH_sc = H0*1e3\n",
    "\n",
    "plt.figure(figsize=(8,6))\n",
    "plt.plot(dH*dH_sc,sigma_H*sigma_sc,color='royalblue',linewidth=3)\n",
    "plt.ylabel(r'$\\Sigma$ (kPa)',fontsize=20)\n",
    "plt.xlabel(r'$\\delta$ (mm)',fontsize=20)\n",
    "plt.xticks(fontsize=12)\n",
    "plt.yticks(fontsize=12)\n",
    "plt.show()\n",
    "plt.close()"
   ]
  }
 ],
 "metadata": {
  "kernelspec": {
   "display_name": "Python 3 (ipykernel)",
   "language": "python",
   "name": "python3"
  },
  "language_info": {
   "codemirror_mode": {
    "name": "ipython",
    "version": 3
   },
   "file_extension": ".py",
   "mimetype": "text/x-python",
   "name": "python",
   "nbconvert_exporter": "python",
   "pygments_lexer": "ipython3",
   "version": "3.10.6"
  }
 },
 "nbformat": 4,
 "nbformat_minor": 5
}
