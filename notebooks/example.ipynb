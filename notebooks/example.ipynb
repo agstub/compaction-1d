{
 "cells": [
  {
   "cell_type": "markdown",
   "id": "ba1c6864-8a95-4c87-b34e-cd18af1c4c20",
   "metadata": {},
   "source": [
    "# Compaction Solver"
   ]
  },
  {
   "cell_type": "markdown",
   "id": "80eb6396",
   "metadata": {},
   "source": [
    "This notebook solves the viscous compaction problem in one spatial dimension (vertical). \n",
    "\n",
    "For a brief overline of the problem and numerical method, see the notebook notes.ipynb.\n",
    "\n",
    "The code requires [FEniCSx](https://fenicsproject.org). The notebook can be run \n",
    "through a [Docker](https://www.docker.com) container with the command:\n",
    "\n",
    "`docker run --init -ti -p 8888:8888 -v $(pwd):/home/fenics/shared -w /home/fenics/shared dolfinx/lab:stable`"
   ]
  },
  {
   "cell_type": "markdown",
   "id": "ded7fb5b-5fab-4d0f-b0d2-6fae180d42fd",
   "metadata": {},
   "source": [
    "Various imports:"
   ]
  },
  {
   "cell_type": "code",
   "execution_count": null,
   "id": "51c1d7d8-a875-4281-bcf8-0a15d49f345c",
   "metadata": {},
   "outputs": [],
   "source": [
    "%load_ext autoreload\n",
    "%autoreload 2\n",
    "# add path to code\n",
    "import sys\n",
    "sys.path.insert(0, '../source')"
   ]
  },
  {
   "cell_type": "markdown",
   "id": "63f21cc9-914e-4247-905f-6d8020353c75",
   "metadata": {},
   "source": [
    "Set the main dimensional parameters in the problem:            \n",
    "(**note:** to modify these paramters after running the cell, you have to restart the kernel)"
   ]
  },
  {
   "cell_type": "code",
   "execution_count": null,
   "id": "126ac1e3-d265-4c41-9167-5b17761e320c",
   "metadata": {},
   "outputs": [],
   "source": [
    "import meta_params as mp\n",
    "mp.H0 = 0.018                                    # initial column height (m)\n",
    "mp.w0 = 111/3.154e7                              # prescribed compaction rate (m/s)\n",
    "mp.phi0 = 0.65                                   # initial porosity \n",
    "mp.eta = 5e7                                     # Newtonian viscosity (Pa s)\n",
    "mp.k0 = 1e-10                                    # permeability pre-factor (m^2)\n",
    "mp.t_f = 25*60                                   # Final time (s)"
   ]
  },
  {
   "cell_type": "code",
   "execution_count": null,
   "id": "734fd229-a6ac-43f0-a625-6237b4f91c4e",
   "metadata": {},
   "outputs": [],
   "source": [
    "import matplotlib.pyplot as plt\n",
    "import numpy as np\n",
    "from dolfinx.fem import Constant, Function, FunctionSpace\n",
    "from dolfinx.mesh import create_interval\n",
    "from misc import get_stress, interp\n",
    "from mpi4py import MPI\n",
    "from params import eta, H0, nt, nz, phi0, w0, zeta, delta\n",
    "from petsc4py import PETSc\n",
    "from solvers import full_solve, vel_solve\n",
    "from ufl import FiniteElement, MixedElement"
   ]
  },
  {
   "cell_type": "markdown",
   "id": "9d7e791f",
   "metadata": {},
   "source": [
    "Define domain:"
   ]
  },
  {
   "cell_type": "code",
   "execution_count": null,
   "id": "55519a2d",
   "metadata": {},
   "outputs": [],
   "source": [
    "# generate mesh, initial domain is scaled height of 1 \n",
    "domain = create_interval(MPI.COMM_WORLD,nz,[0,1])"
   ]
  },
  {
   "cell_type": "markdown",
   "id": "b8234f00-d7c5-4bbe-996e-80b609a97adb",
   "metadata": {},
   "source": [
    "Define initial porosity:"
   ]
  },
  {
   "cell_type": "code",
   "execution_count": null,
   "id": "18496f1f-29d3-43c4-9802-39728869117c",
   "metadata": {},
   "outputs": [],
   "source": [
    "P1 = FiniteElement('P',domain.ufl_cell(),1)     \n",
    "element = P1*P1\n",
    "V = FunctionSpace(domain,element)   \n",
    "initial = Function(V)\n",
    "initial.sub(1).interpolate(lambda x:phi0+0*x[0])"
   ]
  },
  {
   "cell_type": "markdown",
   "id": "7b595617-dce1-4d82-a632-152ff7e01582",
   "metadata": {},
   "source": [
    "Define the boundary conditions (stress or velocity) at the top of the domain:"
   ]
  },
  {
   "cell_type": "code",
   "execution_count": null,
   "id": "33a841df-6f63-4746-9881-0e3d9d81c1d4",
   "metadata": {},
   "outputs": [],
   "source": [
    "# # Dirichlet condition: set compaction rate (velocity) at the top\n",
    "# bc_top = {'type': 'velocity', 'value': -1}\n",
    "\n",
    "# # Neumann condition: set the load (stress) at the top\n",
    "stress = 1e5 # units: Pa\n",
    "stress_scale = w0*((4./3.)*eta + zeta)/H0 \n",
    "bc_top = {'type': 'stress', 'value': stress/stress_scale}"
   ]
  },
  {
   "cell_type": "markdown",
   "id": "87963766-63b3-4d33-bb75-79d9e97c4d31",
   "metadata": {},
   "source": [
    "Solve the momentum balance for the initial porosity to obtain the initial velocity:"
   ]
  },
  {
   "cell_type": "code",
   "execution_count": null,
   "id": "55394522-9f93-450a-8b14-a41e8d4d2838",
   "metadata": {},
   "outputs": [],
   "source": [
    "w_i = vel_solve(domain,phi0,bc_top)\n",
    "initial.sub(0).interpolate(w_i)"
   ]
  },
  {
   "cell_type": "markdown",
   "id": "415849de-2d9f-4d35-9e30-090505afef96",
   "metadata": {},
   "source": [
    "Solve the full problem over all time steps:"
   ]
  },
  {
   "cell_type": "code",
   "execution_count": null,
   "id": "7334cb97-cf3e-4444-a683-487f87086f63",
   "metadata": {},
   "outputs": [],
   "source": [
    "w,phi,sigma,z = full_solve(domain,initial,bc_top)"
   ]
  },
  {
   "cell_type": "markdown",
   "id": "fbea5cc8-44cc-47a1-94a3-cfd269350e07",
   "metadata": {},
   "source": [
    "Plot the solution:"
   ]
  },
  {
   "cell_type": "code",
   "execution_count": null,
   "id": "05994b5f-05f7-4355-bdaf-94e0cf09032c",
   "metadata": {},
   "outputs": [],
   "source": [
    "# time array for plotting\n",
    "t = np.outer(np.linspace(0,1,nt),np.ones(nz+1))\n",
    "sigma0 = np.abs(sigma[0,-1])\n",
    "d = int(np.abs(sigma).max()/sigma0)\n",
    "\n",
    "plt.figure(figsize=(8,4))\n",
    "plt.subplot(131)\n",
    "plt.plot(t[:,0],z[:,-1],'--',color='crimson',linewidth=1)\n",
    "plt.contourf(t,z,-w,cmap='Blues',levels=np.linspace(0,1,100),extend='both')\n",
    "plt.ylabel(r'$z$',fontsize=18)\n",
    "plt.xlabel(r'$t$',fontsize=18)\n",
    "plt.xticks(fontsize=12)\n",
    "plt.yticks(fontsize=12)\n",
    "cbar = plt.colorbar(orientation='horizontal',pad=0.2,ticks=np.linspace(0,1,5))\n",
    "cbar.set_label(r'$w\\,/\\,w_0$',fontsize=24)\n",
    "cbar.ax.tick_params(labelsize=12)\n",
    "cbar.ax.set_xticklabels([0,0.25,0.5,0.75,1])\n",
    "\n",
    "plt.subplot(133)\n",
    "plt.plot(t[:,0],z[:,-1],'--',color='crimson',linewidth=1)\n",
    "plt.contourf(t,z,np.abs(sigma)/sigma0,cmap='Blues',levels=np.linspace(0,d,100),extend='both')\n",
    "plt.xlabel(r'$t$',fontsize=18)\n",
    "plt.ylabel(r'$z$',fontsize=18)\n",
    "plt.xticks(fontsize=12)\n",
    "plt.gca().yaxis.set_label_position(\"right\")\n",
    "plt.gca().yaxis.tick_right()\n",
    "plt.yticks(fontsize=12)\n",
    "cbar = plt.colorbar(orientation='horizontal',pad=0.2,ticks=np.linspace(0,d,5))\n",
    "cbar.set_label(r'$\\Sigma\\,/\\,\\Sigma_0$',fontsize=24)\n",
    "cbar.ax.tick_params(labelsize=12)\n",
    "\n",
    "plt.subplot(132)\n",
    "plt.plot(t[:,0],z[:,-1],'--',color='crimson',linewidth=1)\n",
    "plt.contourf(t,z,phi/phi0,cmap='Blues',levels=np.linspace(0,1,100),extend='both')\n",
    "plt.xlabel(r'$t$',fontsize=18)\n",
    "plt.xticks(fontsize=12)\n",
    "plt.gca().yaxis.set_ticks([])\n",
    "plt.yticks(fontsize=12)\n",
    "cbar = plt.colorbar(orientation='horizontal',pad=0.2,ticks=np.linspace(0,1,5))\n",
    "cbar.set_label(r'$\\phi\\,/\\,\\phi_0$',fontsize=24)\n",
    "cbar.ax.tick_params(labelsize=12)\n",
    "cbar.ax.set_xticklabels([0,0.25,0.5,0.75,1])\n",
    "plt.tight_layout()\n",
    "plt.show()\n",
    "plt.close()"
   ]
  },
  {
   "cell_type": "markdown",
   "id": "f888c364-6625-48bc-bfcb-1c02f339c53b",
   "metadata": {},
   "source": [
    "Create a stress-displacement plot (dimensional):"
   ]
  },
  {
   "cell_type": "code",
   "execution_count": null,
   "id": "0bb349b1-d421-490b-891b-7776b3a66b11",
   "metadata": {},
   "outputs": [],
   "source": [
    "# # import data for comparison if available\n",
    "# fname = 'filename.csv'\n",
    "# data = np.genfromtxt(fname, delimiter=',')\n",
    "# dH_data = data[:,0]\n",
    "# sigma_data = data[:,2]\n",
    "\n",
    "dH = -(z[:,-1] - z[0,-1])\n",
    "sigma_H = -(sigma[:,-1]-sigma[0,-1]) #note(!): we have to subtract initial stress.... ?!?!?\n",
    "sigma_sc = (w0/H0)*((4./3.)*eta + zeta)/1e3\n",
    "dH_sc = H0*1e3\n",
    "\n",
    "plt.figure(figsize=(8,6))\n",
    "plt.plot(dH*dH_sc,sigma_H*sigma_sc,color='royalblue',linewidth=3)\n",
    "# plt.plot(dH_data,sigma_data,color='crimson',marker='o',markersize=8)\n",
    "plt.ylabel(r'$\\Sigma-\\Sigma_0$ (kPa)',fontsize=20)\n",
    "plt.xlabel(r'$\\delta$ (mm)',fontsize=20)\n",
    "plt.xticks(fontsize=12)\n",
    "plt.yticks(fontsize=12)\n",
    "plt.xlim(0,5)\n",
    "plt.ylim(-10,150)\n",
    "plt.show()\n",
    "plt.close()"
   ]
  }
 ],
 "metadata": {
  "kernelspec": {
   "display_name": "Python 3 (ipykernel)",
   "language": "python",
   "name": "python3"
  },
  "language_info": {
   "codemirror_mode": {
    "name": "ipython",
    "version": 3
   },
   "file_extension": ".py",
   "mimetype": "text/x-python",
   "name": "python",
   "nbconvert_exporter": "python",
   "pygments_lexer": "ipython3",
   "version": "3.10.6"
  }
 },
 "nbformat": 4,
 "nbformat_minor": 5
}
