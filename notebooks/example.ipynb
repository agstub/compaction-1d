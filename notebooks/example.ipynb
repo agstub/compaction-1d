{
 "cells": [
  {
   "cell_type": "markdown",
   "id": "80eb6396",
   "metadata": {},
   "source": [
    "The code requires FEniCSx---see the README for details."
   ]
  },
  {
   "cell_type": "code",
   "execution_count": null,
   "id": "143b6537",
   "metadata": {
    "vscode": {
     "languageId": "plaintext"
    }
   },
   "outputs": [],
   "source": [
    "%load_ext autoreload\n",
    "%autoreload 2\n",
    "# add path to code\n",
    "import sys\n",
    "sys.path.insert(0, '../source')"
   ]
  },
  {
   "cell_type": "code",
   "execution_count": null,
   "id": "543ce17a",
   "metadata": {
    "vscode": {
     "languageId": "plaintext"
    }
   },
   "outputs": [],
   "source": [
    "import numpy as np\n",
    "from main import solve\n",
    "from ufl import SpatialCoordinate\n",
    "from params import H, L, Nx, Nz, rho_w, g0, sigma0, u0\n",
    "from dolfinx.fem import Expression, Function, FunctionSpace\n",
    "from dolfinx.mesh import create_rectangle\n",
    "from mpi4py import MPI\n",
    "from fem_spaces import mixed_space\n",
    "import matplotlib.pyplot as plt\n",
    "from matplotlib import colors\n",
    "from plotting import interp"
   ]
  },
  {
   "cell_type": "markdown",
   "id": "9d7e791f",
   "metadata": {},
   "source": [
    "Define domain:"
   ]
  },
  {
   "cell_type": "code",
   "execution_count": null,
   "id": "55519a2d",
   "metadata": {
    "vscode": {
     "languageId": "plaintext"
    }
   },
   "outputs": [],
   "source": [
    "    # generate mesh\n",
    "    p0 = [-L/2.0,-0.5*H]\n",
    "    p1 = [L/2.0,0.5*H]\n",
    "    domain = create_rectangle(MPI.COMM_WORLD,[p0,p1], [Nx, Nz])"
   ]
  },
  {
   "cell_type": "markdown",
   "id": "f8bae283",
   "metadata": {},
   "source": [
    "Define melting rate function:"
   ]
  },
  {
   "cell_type": "code",
   "execution_count": null,
   "id": "c8dc4231",
   "metadata": {
    "vscode": {
     "languageId": "plaintext"
    }
   },
   "outputs": [],
   "source": [
    "m = lambda x,t: 0*x + 0*t"
   ]
  },
  {
   "cell_type": "markdown",
   "id": "a69a33e7",
   "metadata": {},
   "source": [
    "Define initial conditions"
   ]
  },
  {
   "cell_type": "code",
   "execution_count": null,
   "id": "5aa4f890-b8a6-4edd-9fe6-ac320e413801",
   "metadata": {},
   "outputs": [],
   "source": [
    "P2 = FunctionSpace(domain, (\"CG\", 2))\n",
    "P1 = FunctionSpace(domain, (\"CG\", 1))"
   ]
  },
  {
   "cell_type": "code",
   "execution_count": null,
   "id": "31d62394-96fe-4cc6-b7e2-d03c01cf9850",
   "metadata": {},
   "outputs": [],
   "source": [
    "def step(x,val): \n",
    "    return val*(x[1] + abs(x[1]))/(2*abs(x[1])+1e-10)"
   ]
  },
  {
   "cell_type": "code",
   "execution_count": null,
   "id": "39403a91-a23c-4a1d-b220-790cdafd192a",
   "metadata": {},
   "outputs": [],
   "source": [
    "phii_0 = Function(P2)\n",
    "phiw_0 = Function(P2)\n",
    "u_0 = Function(P2)\n",
    "w_0 = Function(P2)\n",
    "pw_0 = Function(P1)\n",
    "pe_0 = Function(P1)"
   ]
  },
  {
   "cell_type": "code",
   "execution_count": null,
   "id": "e1bcb8e3-4d58-4db2-8cfb-8186c26d70d9",
   "metadata": {},
   "outputs": [],
   "source": [
    "phii_0.interpolate(lambda x: step(x,1))\n",
    "phiw_0.interpolate(lambda x: step(-x,0.25))\n",
    "u_0.interpolate(lambda x: step(x,u0))\n",
    "w_0.interpolate(lambda x: step(x,0))\n",
    "pw_0.interpolate(lambda x: rho_w*g0*x[1] + sigma0)\n",
    "pe_0.interpolate(lambda x: step(x,0)) "
   ]
  },
  {
   "cell_type": "code",
   "execution_count": null,
   "id": "d22fd8c1-92bf-44be-b9e7-9430ff159bf5",
   "metadata": {},
   "outputs": [],
   "source": [
    "V = mixed_space(domain)\n",
    "initial = Function(V)\n",
    "initial.sub(0).sub(0).interpolate(u_0)\n",
    "initial.sub(0).sub(1).interpolate(w_0)\n",
    "initial.sub(1).interpolate(phii_0)\n",
    "initial.sub(2).interpolate(phiw_0)\n",
    "initial.sub(3).interpolate(pw_0)\n",
    "initial.sub(4).interpolate(pe_0)"
   ]
  },
  {
   "cell_type": "code",
   "execution_count": null,
   "id": "19b89def-2722-4101-8a77-b394da9707f0",
   "metadata": {},
   "outputs": [],
   "source": [
    "phii = Function(P1)\n",
    "phiw = Function(P1)"
   ]
  },
  {
   "cell_type": "code",
   "execution_count": null,
   "id": "0d69d844-eed0-4189-bcfa-91a7a9c02010",
   "metadata": {},
   "outputs": [],
   "source": [
    "phii.interpolate(Expression(initial.sub(1), P1.element.interpolation_points()))\n",
    "phiw.interpolate(Expression(initial.sub(2), P1.element.interpolation_points()))"
   ]
  },
  {
   "cell_type": "code",
   "execution_count": null,
   "id": "bbc9fdea-8d92-4413-80e2-320e79a1b087",
   "metadata": {},
   "outputs": [],
   "source": [
    "# # PLOT initial volume fractions .... \n",
    "# X,Y,Phi_i = interp(phii,domain)\n",
    "# X,Y,Phi_w = interp(phiw,domain)\n",
    "\n",
    "# j=int(Nz/2.)\n",
    "# plt.plot(Phi_i[:,j],Y[:,j],color='royalblue',linewidth=2,label=r'$\\phi_\\mathrm{i}$')\n",
    "# plt.plot(Phi_w[:,j],Y[:,j],color='crimson',linewidth=2,label=r'$\\phi_\\mathrm{w}$')\n",
    "# plt.legend(fontsize=16,loc='lower right')\n",
    "# plt.ylim(-H/2.,H/2.)\n",
    "# plt.xlabel(r'$\\phi$',fontsize=18)\n",
    "# plt.ylabel(r'$z$',fontsize=18)\n",
    "# plt.xticks(fontsize=12)\n",
    "# plt.yticks(fontsize=12)\n",
    "# plt.show()\n",
    "# plt.close()"
   ]
  },
  {
   "cell_type": "code",
   "execution_count": null,
   "id": "5f43714b-4c27-44a3-8370-e2bca87dac21",
   "metadata": {},
   "outputs": [],
   "source": [
    "###########################\n",
    "# # contour plots ?!?!?\n",
    "# plt.figure(figsize=(12,6))\n",
    "# plt.subplot(121)\n",
    "# plt.contourf(X,Y,Phi_i,cmap='Blues_r',levels=np.linspace(0,1,6),alpha=0.75)\n",
    "# plt.xlabel(r'$x$',fontsize=18)\n",
    "# plt.ylabel(r'$z$',fontsize=18)\n",
    "# plt.xticks(fontsize=12)\n",
    "# plt.yticks(fontsize=12)\n",
    "# cbar = plt.colorbar(orientation='horizontal')\n",
    "# cbar.set_label(r'$\\phi_\\mathrm{i}$',fontsize=18)\n",
    "\n",
    "# norm2 =colors.TwoSlopeNorm(vmin=0, vcenter=0.9, vmax=1)\n",
    "# plt.subplot(122)\n",
    "# plt.contourf(X,Y,Phi_w,cmap='Blues',levels=np.linspace(0,1,6),alpha=0.75)\n",
    "# plt.xlabel(r'$x$',fontsize=18)\n",
    "# plt.ylabel(r'$z$',fontsize=18)\n",
    "# plt.gca().yaxis.tick_right()\n",
    "# plt.gca().yaxis.set_label_position(\"right\")\n",
    "# plt.xticks(fontsize=12)\n",
    "# plt.yticks(fontsize=12)\n",
    "# cbar = plt.colorbar(orientation='horizontal')\n",
    "# cbar.set_label(r'$\\phi_\\mathrm{w}$',fontsize=18)\n",
    "\n",
    "# plt.show()\n",
    "# plt.close()"
   ]
  },
  {
   "cell_type": "code",
   "execution_count": null,
   "id": "2ad15c20-49a6-4110-8126-b456e0e582dd",
   "metadata": {},
   "outputs": [],
   "source": []
  }
 ],
 "metadata": {
  "kernelspec": {
   "display_name": "Python 3 (ipykernel)",
   "language": "python",
   "name": "python3"
  },
  "language_info": {
   "codemirror_mode": {
    "name": "ipython",
    "version": 3
   },
   "file_extension": ".py",
   "mimetype": "text/x-python",
   "name": "python",
   "nbconvert_exporter": "python",
   "pygments_lexer": "ipython3",
   "version": "3.10.6"
  }
 },
 "nbformat": 4,
 "nbformat_minor": 5
}
